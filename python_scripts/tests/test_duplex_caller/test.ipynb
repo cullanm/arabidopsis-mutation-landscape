{
 "cells": [
  {
   "cell_type": "markdown",
   "metadata": {},
   "source": [
    "Decrease \"chunk_size\" variable in duplex_caller before running tests to ensure the flushing system works properly"
   ]
  },
  {
   "cell_type": "code",
   "execution_count": null,
   "metadata": {},
   "outputs": [],
   "source": [
    "!python ../../duplex_caller.py -h"
   ]
  },
  {
   "cell_type": "code",
   "execution_count": null,
   "metadata": {
    "tags": []
   },
   "outputs": [],
   "source": [
    "!python ../../duplex_caller.py --all 'duplex_caller_test_case.bam' test.out"
   ]
  },
  {
   "cell_type": "code",
   "execution_count": null,
   "metadata": {},
   "outputs": [],
   "source": [
    "expected = open('duplex_caller_expected_output.txt', 'r')\n",
    "actual = open('test.out', 'r')\n",
    "exp_head = next(expected)\n",
    "act_head = next(actual)\n",
    "if exp_head != act_head:\n",
    "    print('ERROR headers do not match')\n",
    "\n",
    "for exp, act in zip(expected, actual):\n",
    "    exp = exp.split('\\t')\n",
    "    act = act.split('\\t')\n",
    "    if exp[:-1] != act[:-1] or abs(float(exp[-1]) - float(act[-1])) > 0.0101:\n",
    "        print('ERROR')\n",
    "        print(exp)\n",
    "        print(act)\n",
    "    else:\n",
    "        print('MATCH')\n",
    "expected.close()\n",
    "actual.close()"
   ]
  },
  {
   "cell_type": "code",
   "execution_count": null,
   "metadata": {},
   "outputs": [],
   "source": [
    "with open('test.out') as f:\n",
    "    for l in f:\n",
    "        print(l)"
   ]
  },
  {
   "cell_type": "code",
   "execution_count": null,
   "metadata": {},
   "outputs": [],
   "source": []
  },
  {
   "cell_type": "code",
   "execution_count": null,
   "metadata": {},
   "outputs": [],
   "source": []
  }
 ],
 "metadata": {
  "kernelspec": {
   "display_name": "Python 3 (ipykernel)",
   "language": "python",
   "name": "python3"
  },
  "language_info": {
   "codemirror_mode": {
    "name": "ipython",
    "version": 3
   },
   "file_extension": ".py",
   "mimetype": "text/x-python",
   "name": "python",
   "nbconvert_exporter": "python",
   "pygments_lexer": "ipython3",
   "version": "3.9.13"
  }
 },
 "nbformat": 4,
 "nbformat_minor": 4
}
