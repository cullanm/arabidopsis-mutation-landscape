{
 "cells": [
  {
   "cell_type": "markdown",
   "metadata": {},
   "source": [
    "Decrease \"chunk_size\" variable in duplex_caller before running tests to ensure the flushing system works properly"
   ]
  },
  {
   "cell_type": "code",
   "execution_count": null,
   "metadata": {},
   "outputs": [],
   "source": [
    "!python ../../dup_informed_caller.py -h"
   ]
  },
  {
   "cell_type": "markdown",
   "metadata": {},
   "source": [
    "# Test on curated test case"
   ]
  },
  {
   "cell_type": "code",
   "execution_count": null,
   "metadata": {
    "tags": []
   },
   "outputs": [],
   "source": [
    "!python ../../dup_informed_caller.py 'dup_informed_caller_test_case.bam' test.out"
   ]
  },
  {
   "cell_type": "code",
   "execution_count": null,
   "metadata": {},
   "outputs": [],
   "source": [
    "expected = open('dup_informed_caller_expected_output.txt', 'r')\n",
    "actual = open('test.out', 'r')\n",
    "for exp, act in zip(expected, actual):\n",
    "    if exp != act:\n",
    "        print('ERROR')\n",
    "        print(exp)\n",
    "        print(act)\n",
    "    else:\n",
    "        print('MATCH')\n",
    "expected.close()\n",
    "actual.close()"
   ]
  },
  {
   "cell_type": "code",
   "execution_count": null,
   "metadata": {},
   "outputs": [],
   "source": [
    "with open('test.out') as f:\n",
    "    for l in f:\n",
    "        print(l)"
   ]
  },
  {
   "cell_type": "markdown",
   "metadata": {},
   "source": [
    "# Test that --duplicate_support works"
   ]
  },
  {
   "cell_type": "code",
   "execution_count": null,
   "metadata": {},
   "outputs": [],
   "source": [
    "!python ../../dup_informed_caller.py --chunk_size 1 --duplicate_support 4 'dup_informed_caller_test_case.bam' test.out"
   ]
  },
  {
   "cell_type": "code",
   "execution_count": null,
   "metadata": {},
   "outputs": [],
   "source": [
    "expected = open('dup_informed_caller_dup_support_4_expected_output.txt', 'r')\n",
    "actual = open('test.out', 'r')\n",
    "for exp, act in zip(expected, actual):\n",
    "    if exp != act:\n",
    "        print('ERROR')\n",
    "        print(exp)\n",
    "        print(act)\n",
    "    else:\n",
    "        print('MATCH')\n",
    "expected.close()\n",
    "actual.close()"
   ]
  },
  {
   "cell_type": "code",
   "execution_count": null,
   "metadata": {},
   "outputs": [],
   "source": [
    "with open('test.out') as f:\n",
    "    for l in f:\n",
    "        print(l)"
   ]
  },
  {
   "cell_type": "markdown",
   "metadata": {},
   "source": [
    "# Test that results match naive_caller when run on a deduplicated sample"
   ]
  },
  {
   "cell_type": "code",
   "execution_count": null,
   "metadata": {},
   "outputs": [],
   "source": [
    "from tqdm import tqdm"
   ]
  },
  {
   "cell_type": "code",
   "execution_count": null,
   "metadata": {},
   "outputs": [],
   "source": [
    "# SAMtools markdup doesn't actually mark all duplicates, use this to remove all\n",
    "fin = open('../../../data/align/dup_informed_test_long_only.sam', 'r')\n",
    "fout = open('../../../data/align/dup_informed_test_dedup_for_real.sam', 'w')\n",
    "frags = set()\n",
    "for l in tqdm(fin):\n",
    "    if l[0] == '@':\n",
    "        fout.write(l)\n",
    "        continue\n",
    "    \n",
    "    s = l.split('\\t')\n",
    "    frag = (s[2], s[3], s[8])\n",
    "    if frag not in frags:\n",
    "        frags.add(frag)\n",
    "        fout.write(l)\n",
    "        \n",
    "fin.close()\n",
    "fout.close()"
   ]
  },
  {
   "cell_type": "code",
   "execution_count": null,
   "metadata": {},
   "outputs": [],
   "source": [
    "f_inf = open('../../../data/variant/dup_informed_test_informed.tsv', 'r')\n",
    "f_nai = open('../../../data/variant/dup_informed_test_naive.tsv', 'r')\n",
    "# TODO left off here\n",
    "for inf, nai in tqdm(zip(f_inf, f_nai)):\n",
    "    inf = inf.split('\\t')[:10]\n",
    "    inf[8] = sorted(inf[8]) # sort for comparison to naive output, since I don't care if the order is different\n",
    "    inf[9] = sorted(inf[9][:-1]) # need to ignore the trailing newline\n",
    "    nai = nai.split('\\t')[:10]\n",
    "    nai[8] = sorted(nai[8])\n",
    "    nai[9] = sorted(nai[9])\n",
    "    if inf != nai:\n",
    "        print('ERROR')\n",
    "        print(inf)\n",
    "        print(nai)\n",
    "        # break"
   ]
  },
  {
   "cell_type": "code",
   "execution_count": null,
   "metadata": {},
   "outputs": [],
   "source": []
  }
 ],
 "metadata": {
  "kernelspec": {
   "display_name": "Python 3 (ipykernel)",
   "language": "python",
   "name": "python3"
  },
  "language_info": {
   "codemirror_mode": {
    "name": "ipython",
    "version": 3
   },
   "file_extension": ".py",
   "mimetype": "text/x-python",
   "name": "python",
   "nbconvert_exporter": "python",
   "pygments_lexer": "ipython3",
   "version": "3.9.13"
  }
 },
 "nbformat": 4,
 "nbformat_minor": 4
}
