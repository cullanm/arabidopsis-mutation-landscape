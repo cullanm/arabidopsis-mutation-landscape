{
 "cells": [
  {
   "cell_type": "markdown",
   "metadata": {},
   "source": [
    "Decrease \"chunk_size\" variable in duplex_caller before running tests to ensure the flushing system works properly"
   ]
  },
  {
   "cell_type": "code",
   "execution_count": null,
   "metadata": {},
   "outputs": [],
   "source": [
    "import pysam\n",
    "from collections import defaultdict"
   ]
  },
  {
   "cell_type": "code",
   "execution_count": null,
   "metadata": {},
   "outputs": [],
   "source": [
    "!jupyter nbconvert --to script ../../group_umis.ipynb\n",
    "!python3.7 ../../group_umis.py -h"
   ]
  },
  {
   "cell_type": "code",
   "execution_count": null,
   "metadata": {},
   "outputs": [],
   "source": [
    "def test(exp_file, act_file):\n",
    "    true_umis = dict()\n",
    "    exp_groups = defaultdict(lambda: [])\n",
    "    with open(exp_file, 'r') as f:\n",
    "        for l in f:\n",
    "            row = l.strip().split('\\t')\n",
    "            true_umis[row[0]] = row[2]\n",
    "            exp_groups[row[1]].append(row[0])\n",
    "    exp_groups = sorted(exp_groups.values())\n",
    "\n",
    "    aln = pysam.AlignmentFile(act_file, 'rb')\n",
    "    act_groups = defaultdict(lambda: [])\n",
    "    read_info = dict()\n",
    "    for read in aln.fetch(until_eof=True):\n",
    "        if true_umis[read.query_name] != read.get_tag('RX'):\n",
    "            print(f'ERROR: expected true UMI {true_umis[read.query_name]} but received {read.get_tag(\"RX\")} for read {read.query_name}')\n",
    "        if read.is_reverse:\n",
    "            assert read.query_name in act_groups[read.get_tag('UG')]\n",
    "            continue\n",
    "        read_info[read.query_name] = (read.reference_start, read.tlen, read.query_name.rsplit(':')[-1])\n",
    "        act_groups[read.get_tag('UG')].append(read.query_name)\n",
    "    aln.close()\n",
    "    act_groups = sorted(act_groups.values())\n",
    "    if act_groups != exp_groups:\n",
    "        print(f'ERROR: incorrect UMI groupings')\n",
    "        print('Expected')\n",
    "        for group in exp_groups:\n",
    "            print('|' + '; '.join([str(read_info[r]) for r in group]))\n",
    "    print('Received')\n",
    "    for group in act_groups:\n",
    "        print('|' + '; '.join([str(read_info[r]) for r in group]))\n"
   ]
  },
  {
   "cell_type": "code",
   "execution_count": null,
   "metadata": {},
   "outputs": [],
   "source": [
    "'''default test case, covers:\n",
    "- grouping umis with one difference but not two\n",
    "- grouping umis with 2bp difference in template position but not 3bp\n",
    "- assigning the correct umi for the RX tag\n",
    "- discarding of improperly mapped reads\n",
    "- flipping of f2r1 umis\n",
    "'''\n",
    "!python3.7 ../../group_umis.py -f -b 2 'test.bam' 'out.bam'\n",
    "test('expected_umis.txt', 'out.bam')"
   ]
  },
  {
   "cell_type": "code",
   "execution_count": null,
   "metadata": {},
   "outputs": [],
   "source": [
    "# same test file, but making sure nothing goes wrong when the buffer is flushed\n",
    "!python3.7 ../../group_umis.py -f -b 2 --buffer_size 1 'test.bam' 'out.bam'\n",
    "test('expected_umis.txt', 'out.bam')"
   ]
  },
  {
   "cell_type": "code",
   "execution_count": null,
   "metadata": {},
   "outputs": [],
   "source": [
    "# same test file, but making sure nothing goes wrong when multiprocessing\n",
    "!python3.7 ../../group_umis.py -@ 4 -f -b 2 'test.bam' 'out.bam'\n",
    "test('expected_umis.txt', 'out.bam')"
   ]
  },
  {
   "cell_type": "code",
   "execution_count": null,
   "metadata": {},
   "outputs": [],
   "source": [
    "# tests that it doesn't choke when grouping a big network of reads\n",
    "!python3.7 ../../group_umis.py -f -b 500 --buffer_size 1 'test_messy_group.bam' 'out.bam'\n",
    "test('expected_umis_messy_group.txt', 'out.bam')"
   ]
  },
  {
   "cell_type": "code",
   "execution_count": null,
   "metadata": {},
   "outputs": [],
   "source": []
  }
 ],
 "metadata": {
  "kernelspec": {
   "display_name": "Python 3",
   "language": "python",
   "name": "python3"
  },
  "language_info": {
   "codemirror_mode": {
    "name": "ipython",
    "version": 3
   },
   "file_extension": ".py",
   "mimetype": "text/x-python",
   "name": "python",
   "nbconvert_exporter": "python",
   "pygments_lexer": "ipython3",
   "version": "3.7.6"
  }
 },
 "nbformat": 4,
 "nbformat_minor": 4
}
