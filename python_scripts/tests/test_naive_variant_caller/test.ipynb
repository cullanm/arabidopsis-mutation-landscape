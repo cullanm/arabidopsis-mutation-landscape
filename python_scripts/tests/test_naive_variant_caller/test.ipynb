{
 "cells": [
  {
   "cell_type": "markdown",
   "metadata": {},
   "source": [
    "Decrease \"chunk_size\" variable in naive_variant_caller before running tests to ensure the flushing system works properly"
   ]
  },
  {
   "cell_type": "code",
   "execution_count": null,
   "metadata": {},
   "outputs": [],
   "source": [
    "!python ../../naive_variant_caller.py -h"
   ]
  },
  {
   "cell_type": "code",
   "execution_count": null,
   "metadata": {},
   "outputs": [],
   "source": [
    "!python ../../naive_variant_caller.py 'test_case.bam' test_case.out"
   ]
  },
  {
   "cell_type": "code",
   "execution_count": null,
   "metadata": {},
   "outputs": [],
   "source": [
    "expected = open('expected_output.txt', 'r')\n",
    "actual = open('test_case.out', 'r')\n",
    "for exp, act in zip(expected, actual):\n",
    "    if exp != act:\n",
    "        print('ERROR')\n",
    "        print(exp.strip())\n",
    "        print(act.strip())\n",
    "    else:\n",
    "        print('MATCH')\n",
    "expected.close()\n",
    "actual.close()"
   ]
  },
  {
   "cell_type": "markdown",
   "metadata": {},
   "source": [
    "## Check alt variant caller"
   ]
  },
  {
   "cell_type": "code",
   "execution_count": null,
   "metadata": {},
   "outputs": [],
   "source": [
    "!python ../../naive_variant_caller.py --all_qualities --positions 'test_case.bam' test_case.out"
   ]
  },
  {
   "cell_type": "code",
   "execution_count": null,
   "metadata": {},
   "outputs": [],
   "source": [
    "expected = open('expected_output.txt', 'r')\n",
    "actual = open('test_case.out', 'r')\n",
    "for l1, l2 in zip(expected, actual):\n",
    "    if l1 != l2:\n",
    "        print('ERROR')\n",
    "        print(l1.strip())\n",
    "        print(l2.strip())\n",
    "    else:\n",
    "        print('MATCH')\n",
    "expected.close()\n",
    "actual.close()"
   ]
  },
  {
   "cell_type": "markdown",
   "metadata": {},
   "source": [
    "## Confirm that both normal and alt variant caller give the same output for a large example and compare speeds"
   ]
  },
  {
   "cell_type": "code",
   "execution_count": null,
   "metadata": {},
   "outputs": [],
   "source": [
    "!python3.7 ../../naive_variant_caller.py '../../../data/align/mark_leaf6_head.bam' -o test_case.out"
   ]
  },
  {
   "cell_type": "code",
   "execution_count": null,
   "metadata": {},
   "outputs": [],
   "source": [
    "!python3.7 ../../naive_variant_caller_alt.py '../../../data/align/mark_leaf6_head.bam' -o test_case_alt.out"
   ]
  },
  {
   "cell_type": "code",
   "execution_count": null,
   "metadata": {},
   "outputs": [],
   "source": [
    "normal = open('test_case.out', 'r')\n",
    "alt = open('test_case_alt.out', 'r')\n",
    "matches = 0\n",
    "for l1, l2 in zip(normal, alt):\n",
    "    if l1 != l2:\n",
    "        print(f'{matches} matches')\n",
    "        matches = 0\n",
    "        print(f'ERROR:')\n",
    "        print(l1)\n",
    "        print(l2)\n",
    "    else:\n",
    "        matches += 1\n",
    "print(f'{matches} matches')\n",
    "expected.close()\n",
    "actual.close()"
   ]
  },
  {
   "cell_type": "code",
   "execution_count": null,
   "metadata": {},
   "outputs": [],
   "source": [
    "normal = open('test_case.out', 'r')\n",
    "alt = open('test_case_alt.out', 'r')\n",
    "i = 0\n",
    "for l1, l2 in zip(normal, alt):\n",
    "    print(l1.strip())\n",
    "    print(l2.strip())\n",
    "    if i > 100:\n",
    "        break\n",
    "    i += 1"
   ]
  },
  {
   "cell_type": "code",
   "execution_count": null,
   "metadata": {},
   "outputs": [],
   "source": []
  }
 ],
 "metadata": {
  "kernelspec": {
   "display_name": "Python 3 (ipykernel)",
   "language": "python",
   "name": "python3"
  },
  "language_info": {
   "codemirror_mode": {
    "name": "ipython",
    "version": 3
   },
   "file_extension": ".py",
   "mimetype": "text/x-python",
   "name": "python",
   "nbconvert_exporter": "python",
   "pygments_lexer": "ipython3",
   "version": "3.9.13"
  }
 },
 "nbformat": 4,
 "nbformat_minor": 4
}
