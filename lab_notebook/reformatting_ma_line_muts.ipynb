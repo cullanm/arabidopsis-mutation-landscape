{
 "cells": [
  {
   "cell_type": "code",
   "execution_count": null,
   "id": "0",
   "metadata": {},
   "outputs": [],
   "source": [
    "import sys\n",
    "import os\n",
    "sys.path.append(os.getcwd() + '/../python_scripts') # this lets us import files in python_scripts (like gtools)\n",
    "import gtools\n",
    "if os.getcwd()[:8] != '/scratch': # switch to the directory where all the data files are\n",
    "    os.chdir(f'/scratch/cam02551/{os.getcwd().split(\"/\")[-2]}')\n",
    "\n",
    "import pandas as pd\n",
    "from tqdm import tqdm"
   ]
  },
  {
   "cell_type": "markdown",
   "id": "1",
   "metadata": {},
   "source": [
    "# Convert reported mutations to my tsv format"
   ]
  },
  {
   "cell_type": "code",
   "execution_count": null,
   "id": "2",
   "metadata": {},
   "outputs": [],
   "source": [
    "genome = gtools.load_genome('data/ref/ref.fa') # created from snakemake pipeline"
   ]
  },
  {
   "cell_type": "markdown",
   "id": "3",
   "metadata": {},
   "source": [
    "### 1001 genomes\n",
    "Data are from here: https://1001genomes.org/data/GMI-MPI/releases/v3.1/1001genomes_snp-short-indel_only_ACGTN.vcf.gz. Need to convert from VCF format to my tsv format, which includes separating out VCF records with more than one ALT and ALTs simultaneously representing SNVs and indels"
   ]
  },
  {
   "cell_type": "code",
   "execution_count": null,
   "id": "4",
   "metadata": {},
   "outputs": [],
   "source": [
    "fout = open('data/variant/1001_muts.tsv', 'w')\n",
    "f = open('data/variant/1001genomes_snp-short-indel_only_ACGTN.vcf', 'r')\n",
    "\n",
    "fout.write('chrom\\tpos\\tref\\talt\\n')\n",
    "for l in tqdm(f, total=12883863):\n",
    "    if l[0] == '#':\n",
    "        continue\n",
    "    \n",
    "    l = l.strip('\\n').split('\\t')\n",
    "    for alt in l[4].split(','):\n",
    "        pos = int(l[1])\n",
    "        ref = l[3]\n",
    "        \n",
    "        for i in range(min(len(ref), len(alt))): # iterate through positions in ref and alt\n",
    "            if ref[i] != alt[i]: # if ref and alt don't match, output a snv\n",
    "                p = pos - 1 + i\n",
    "                r = ref[i]\n",
    "                a = alt[i]\n",
    "                fout.write(f'Chr{l[0]}\\t{p}\\t{r}\\t{a}\\n')\n",
    "        if len(ref) > len(alt): # if there's a deletion, the extra bases on the end of ref are what's deleted\n",
    "            p = pos - 1 + len(alt)\n",
    "            r = ref[len(alt):]\n",
    "            a = '*'\n",
    "            fout.write(f'Chr{l[0]}\\t{p}\\t{r}\\t{a}\\n')\n",
    "        elif len(ref) < len(alt): # if there's an insertion, the extra bases on the end of alt are what's inserted\n",
    "            p = pos - 1 + len(ref)\n",
    "            r = '*'\n",
    "            a = alt[len(ref):]\n",
    "            fout.write(f'Chr{l[0]}\\t{p}\\t{r}\\t{a}\\n')\n",
    "f.close()\n",
    "fout.close()"
   ]
  },
  {
   "cell_type": "markdown",
   "id": "5",
   "metadata": {},
   "source": [
    "### MA lines\n",
    "\n",
    "Downloaded from [Weng 2018](https://doi.org/10.25386/genetics.6456065) File_S1_Mutation_list.zip. Extract the zip and use the Unique_mutations.csv\n",
    "\n",
    "These are the MA lines used in Ossowski 2010 and other papers from Detlef's lab. Shaw 2000 seems to be the original source. They started with 120 lines, but only 117 made it to G17 and only 107 are sequenced in Weng 2018 \n",
    "\n",
    "mapped to TAIR10. confirmed 1 based"
   ]
  },
  {
   "cell_type": "code",
   "execution_count": null,
   "id": "6",
   "metadata": {},
   "outputs": [],
   "source": [
    "f = 'data/variant/weng_raw_unique_mutations.csv' # input mutations (renamed the \"Unique_mutations.csv\" file to this)\n",
    "fout = 'data/variant/weng_reformatted_muts.tsv' # output file of all lines together (not used in final analysis)\n",
    "split_dir = 'data/variant/weng_split/' # output directory to put separate mutation files by line\n",
    "\n",
    "df_weng = pd.read_csv(f)\n",
    "df_weng = df_weng.dropna(how='all')\n",
    "df_weng['chrom'] = df_weng.CHROM.apply(lambda x: f'Chr{str(x)[0]}')\n",
    "df_weng['pos'] = df_weng.POS.apply(lambda x: int(x) - 1)\n",
    "df_weng['pos'] += df_weng.apply(lambda r: 1 if len(r.REF) > 1 or len(r.ALT) > 1 else 0, axis=1)\n",
    "df_weng['ref'] = df_weng.apply(lambda r: '*' if len(r.ALT) > 1 else r.REF, axis=1)\n",
    "df_weng.ref = df_weng.ref.apply(lambda x: x[1:] if len(x) > 1 else x)\n",
    "df_weng['alt'] = df_weng.apply(lambda r: '*' if len(r.REF) > 1 else r.ALT, axis=1)\n",
    "df_weng.alt = df_weng.alt.apply(lambda x: x[1:] if len(x) > 1 else x)\n",
    "df_weng['source'] = df_weng.MA_Line.apply(lambda x: f'weng_{int(x)}')\n",
    "df_weng = df_weng['chrom pos ref alt source'.split()]"
   ]
  },
  {
   "cell_type": "code",
   "execution_count": null,
   "id": "7",
   "metadata": {},
   "outputs": [],
   "source": [
    "df_weng.to_csv(fout, sep='\\t', index=False)"
   ]
  },
  {
   "cell_type": "code",
   "execution_count": null,
   "id": "8",
   "metadata": {},
   "outputs": [],
   "source": [
    "# split each line into its own tsv\n",
    "os.makedirs(split_dir, exist_ok=True)\n",
    "for line in set(df_weng.source):\n",
    "    df_weng[df_weng.source == line].to_csv(f'{split_dir}{line}_muts.tsv', sep='\\t', index=False)"
   ]
  }
 ],
 "metadata": {
  "kernelspec": {
   "display_name": "Python 3 (ipykernel)",
   "language": "python",
   "name": "python3"
  },
  "language_info": {
   "codemirror_mode": {
    "name": "ipython",
    "version": 3
   },
   "file_extension": ".py",
   "mimetype": "text/x-python",
   "name": "python",
   "nbconvert_exporter": "python",
   "pygments_lexer": "ipython3",
   "version": "3.12.3"
  }
 },
 "nbformat": 4,
 "nbformat_minor": 5
}
