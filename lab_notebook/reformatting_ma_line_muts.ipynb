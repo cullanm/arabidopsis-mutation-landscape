{
 "cells": [
  {
   "cell_type": "code",
   "execution_count": null,
   "id": "0",
   "metadata": {},
   "outputs": [],
   "source": [
    "import sys\n",
    "import os\n",
    "sys.path.append(os.getcwd() + '/../python_scripts') # this lets us import files in python_scripts (like gtools)\n",
    "import gtools\n",
    "if os.getcwd()[:8] != '/scratch': # switch to the scratch directory where all the data files are\n",
    "    os.chdir(f'/scratch/cam02551/{os.getcwd().split(\"/\")[-2]}')\n",
    "\n",
    "import pandas as pd\n",
    "from tqdm import tqdm"
   ]
  },
  {
   "cell_type": "markdown",
   "id": "1",
   "metadata": {},
   "source": [
    "# Convert reported mutations to my tsv format"
   ]
  },
  {
   "cell_type": "code",
   "execution_count": null,
   "id": "2",
   "metadata": {},
   "outputs": [],
   "source": [
    "genome = gtools.load_genome('data/ref/ref.fa')"
   ]
  },
  {
   "cell_type": "markdown",
   "id": "3",
   "metadata": {},
   "source": [
    "### 1001 genomes\n",
    "Data are from here: https://1001genomes.org/data/GMI-MPI/releases/v3.1/1001genomes_snp-short-indel_only_ACGTN.vcf.gz. Need to convert from VCF format to my tsv format, which includes separating out VCF records with more than one ALT and ALTs simultaneously representing SNVs and indels"
   ]
  },
  {
   "cell_type": "code",
   "execution_count": null,
   "id": "4",
   "metadata": {},
   "outputs": [],
   "source": [
    "fout = open('data/1001/1001_muts.tsv', 'w')\n",
    "f = open('data/1001/1001genomes_snp-short-indel_only_ACGTN.vcf', 'r')\n",
    "\n",
    "fout.write('chrom\\tpos\\tref\\talt\\n')\n",
    "for l in tqdm(f, total=12883863):\n",
    "    if l[0] == '#':\n",
    "        continue\n",
    "    \n",
    "    l = l.strip('\\n').split('\\t')\n",
    "    for alt in l[4].split(','):\n",
    "        pos = int(l[1])\n",
    "        ref = l[3]\n",
    "        \n",
    "        for i in range(min(len(ref), len(alt))): # iterate through positions in ref and alt\n",
    "            if ref[i] != alt[i]: # if ref and alt don't match, output a snv\n",
    "                p = pos - 1 + i\n",
    "                r = ref[i]\n",
    "                a = alt[i]\n",
    "                fout.write(f'Chr{l[0]}\\t{p}\\t{r}\\t{a}\\n')\n",
    "        if len(ref) > len(alt): # if there's a deletion, the extra bases on the end of ref are what's deleted\n",
    "            p = pos - 1 + len(alt)\n",
    "            r = ref[len(alt):]\n",
    "            a = '*'\n",
    "            fout.write(f'Chr{l[0]}\\t{p}\\t{r}\\t{a}\\n')\n",
    "        elif len(ref) < len(alt): # if there's an insertion, the extra bases on the end of alt are what's inserted\n",
    "            p = pos - 1 + len(ref)\n",
    "            r = '*'\n",
    "            a = alt[len(ref):]\n",
    "            fout.write(f'Chr{l[0]}\\t{p}\\t{r}\\t{a}\\n')\n",
    "f.close()\n",
    "fout.close()"
   ]
  },
  {
   "cell_type": "markdown",
   "id": "5",
   "metadata": {},
   "source": [
    "### 1001 genomes Ler-0 only"
   ]
  },
  {
   "cell_type": "code",
   "execution_count": null,
   "id": "6",
   "metadata": {},
   "outputs": [],
   "source": [
    "with open('data/1001/1001genomes_snp-short-indel_only_ACGTN.vcf', 'r') as f:\n",
    "    for l in f:\n",
    "        if l[0] == '#' and l[1] != '#':\n",
    "            header = l[1:].split()\n",
    "            break\n"
   ]
  },
  {
   "cell_type": "code",
   "execution_count": null,
   "id": "7",
   "metadata": {},
   "outputs": [],
   "source": [
    "ler_muts = []\n",
    "f = open('data/1001/1001genomes_snp-short-indel_only_ACGTN.vcf', 'r')\n",
    "for l in tqdm(f, total=12883863):\n",
    "    if l[0] == '#':\n",
    "        continue\n",
    "    \n",
    "    l = l.strip('\\n').split('\\t')\n",
    "    ler_gt = l[header.index('7213')].split(':')[0] # get the genotype field of Ler-0\n",
    "    if ler_gt[0] != '.' and ler_gt[0] != '0' and ler_gt[0] == ler_gt[2]: # if Ler-0 has an alt genotype call\n",
    "        pos = int(l[1])\n",
    "        ref = l[3]\n",
    "        alt = l[4].split(',')[int(ler_gt[0]) - 1]\n",
    "        \n",
    "        for i in range(min(len(ref), len(alt))): # iterate through positions in ref and alt\n",
    "            if ref[i] != alt[i]: # if ref and alt don't match, output a snv\n",
    "                p = pos - 1 + i\n",
    "                r = ref[i]\n",
    "                a = alt[i]\n",
    "                ler_muts.append(('Chr' + l[0], p, r, a))\n",
    "        if len(ref) > len(alt): # if there's a deletion, the extra bases on the end of ref are what's deleted\n",
    "            p = pos - 1 + len(alt)\n",
    "            r = ref[len(alt):]\n",
    "            a = '*'\n",
    "            ler_muts.append(('Chr' + l[0], p, r, a))\n",
    "        elif len(ref) < len(alt): # if there's an insertion, the extra bases on the end of alt are what's inserted\n",
    "            p = pos - 1 + len(ref)\n",
    "            r = '*'\n",
    "            a = alt[len(ref):]\n",
    "            ler_muts.append(('Chr' + l[0], p, r, a))"
   ]
  },
  {
   "cell_type": "code",
   "execution_count": null,
   "id": "8",
   "metadata": {},
   "outputs": [],
   "source": [
    "df_ler = pd.DataFrame(ler_muts, columns='chrom pos ref alt'.split())\n",
    "df_ler"
   ]
  },
  {
   "cell_type": "code",
   "execution_count": null,
   "id": "9",
   "metadata": {},
   "outputs": [],
   "source": [
    "df_ler.to_csv('data/1001/1001_Ler-0_only.tsv', index=False, sep='\\t')"
   ]
  },
  {
   "cell_type": "markdown",
   "id": "10",
   "metadata": {},
   "source": [
    "### Weng 2018\n",
    "\n",
    "these are the lines used in Ossowski 2010 and other papers from Detlef's lab. Shaw 2000 seems to be the original source. They started with 120 lines, but only 117 made it to G17 and only 107 are sequenced in Weng 2018 \n",
    "\n",
    "mapped to TAIR10. confirmed 1 based"
   ]
  },
  {
   "cell_type": "code",
   "execution_count": null,
   "id": "11",
   "metadata": {},
   "outputs": [],
   "source": [
    "df_weng = pd.read_csv('data/variant/ma_lines/weng_raw_unique_mutations.csv')\n",
    "df_weng = df_weng.dropna(how='all')\n",
    "df_weng['chrom'] = df_weng.CHROM.apply(lambda x: f'Chr{str(x)[0]}')\n",
    "df_weng['pos'] = df_weng.POS.apply(lambda x: int(x) - 1)\n",
    "df_weng['pos'] += df_weng.apply(lambda r: 1 if len(r.REF) > 1 or len(r.ALT) > 1 else 0, axis=1)\n",
    "df_weng['ref'] = df_weng.apply(lambda r: '*' if len(r.ALT) > 1 else r.REF, axis=1)\n",
    "df_weng.ref = df_weng.ref.apply(lambda x: x[1:] if len(x) > 1 else x)\n",
    "df_weng['alt'] = df_weng.apply(lambda r: '*' if len(r.REF) > 1 else r.ALT, axis=1)\n",
    "df_weng.alt = df_weng.alt.apply(lambda x: x[1:] if len(x) > 1 else x)\n",
    "df_weng['source'] = df_weng.MA_Line.apply(lambda x: f'weng_{int(x)}')\n",
    "df_weng = df_weng['chrom pos ref alt source'.split()]"
   ]
  },
  {
   "cell_type": "code",
   "execution_count": null,
   "id": "12",
   "metadata": {},
   "outputs": [],
   "source": [
    "df_weng"
   ]
  },
  {
   "cell_type": "code",
   "execution_count": null,
   "id": "13",
   "metadata": {},
   "outputs": [],
   "source": [
    "srrs = 'SRR6750188\tSRR6750189\tSRR6750190\tSRR6750191\tSRR6750184\tSRR6750185\tSRR6750186\tSRR6750187\tSRR6750192\tSRR6750193\tSRR6750158\tSRR6750159\tSRR6750160\tSRR6750161\tSRR6750162\tSRR6750163\tSRR6750164\tSRR6750165\tSRR6750166\tSRR6750167\tSRR6750202\tSRR6750201\tSRR6750204\tSRR6750203\tSRR6750198\tSRR6750197\tSRR6750200\tSRR6750199\tSRR6750196\tSRR6750195\tSRR6750106\tSRR6750107\tSRR6750104\tSRR6750105\tSRR6750102\tSRR6750103\tSRR6750100\tSRR6750101\tSRR6750098\tSRR6750099\tSRR6750113\tSRR6750112\tSRR6750111\tSRR6750110\tSRR6750117\tSRR6750116\tSRR6750115\tSRR6750114\tSRR6750109\tSRR6750108\tSRR6750122\tSRR6750123\tSRR6750124\tSRR6750125\tSRR6750118\tSRR6750119\tSRR6750120\tSRR6750121\tSRR6750126\tSRR6750127\tSRR6750129\tSRR6750128\tSRR6750131\tSRR6750130\tSRR6750133\tSRR6750132\tSRR6750135\tSRR6750134\tSRR6750137\tSRR6750136\tSRR6750150\tSRR6750151\tSRR6750148\tSRR6750149\tSRR6750154\tSRR6750155\tSRR6750152\tSRR6750153\tSRR6750156\tSRR6750157\tSRR6750147\tSRR6750146\tSRR6750145\tSRR6750144\tSRR6750143\tSRR6750142\tSRR6750141\tSRR6750140\tSRR6750139\tSRR6750138\tSRR6750176\tSRR6750177\tSRR6750178\tSRR6750179\tSRR6750180\tSRR6750181\tSRR6750182\tSRR6750183\tSRR6750168\tSRR6750194\tSRR6750175\tSRR6750174\tSRR6750173\tSRR6750172\tSRR6750171\tSRR6750170\tSRR6750169'.split()\n",
    "lines = '1\t2\t3\t4\t5\t6\t7\t8\t9\t11\t13\t14\t15\t16\t17\t18\t19\t20\t22\t23\t24\t25\t26\t27\t28\t29\t31\t32\t33\t34\t35\t36\t37\t38\t39\t40\t41\t42\t43\t44\t45\t46\t47\t48\t49\t50\t51\t52\t53\t54\t55\t56\t57\t58\t59\t60\t61\t62\t63\t64\t65\t66\t67\t68\t69\t71\t72\t73\t74\t75\t76\t77\t78\t79\t80\t81\t82\t83\t84\t85\t86\t88\t89\t91\t92\t94\t96\t98\t99\t100\t101\t102\t103\t105\t106\t108\t109\t110\t111\t112\t113\t114\t115\t116\t117\t118\t119'.split()\n",
    "\n",
    "for i in range(len(srrs)):\n",
    "    print(f'{srrs[i]}\\tweng-ma\\t{lines[i]}\\t0')"
   ]
  },
  {
   "cell_type": "code",
   "execution_count": null,
   "id": "14",
   "metadata": {},
   "outputs": [],
   "source": [
    "df_weng.to_csv('data/variant/ma_lines/weng_reformatted_muts.tsv', sep='\\t', index=False)"
   ]
  },
  {
   "cell_type": "code",
   "execution_count": null,
   "id": "15",
   "metadata": {},
   "outputs": [],
   "source": [
    "df_weng"
   ]
  },
  {
   "cell_type": "code",
   "execution_count": null,
   "id": "16",
   "metadata": {},
   "outputs": [],
   "source": [
    "# split each line into its own tsv\n",
    "os.makedirs('data/variant/ma_lines/weng_split/', exist_ok=True)\n",
    "for line in set(df_weng.source):\n",
    "    df_weng[df_weng.source == line].to_csv(f'data/variant/ma_lines/weng_split/{line}_muts.tsv', sep='\\t', index=False)"
   ]
  },
  {
   "cell_type": "markdown",
   "id": "17",
   "metadata": {},
   "source": [
    "### Lu 2021\n",
    "\n",
    "34034794\n",
    "\n",
    "mapped to TAIR10. confirmed 1-based. not used in final analysis\n",
    "\n",
    "line | A | B | C | D | E | F\n",
    "-- | -- | -- | -- | -- | -- | -- \n",
    "Description | 23C population | 32C population | 28C population | 23C individuals | 32C individuals | 28C individuals"
   ]
  },
  {
   "cell_type": "code",
   "execution_count": null,
   "id": "18",
   "metadata": {},
   "outputs": [],
   "source": [
    "def mut_to_ref_alt(m):\n",
    "    try:\n",
    "        if m[0] == 'd':\n",
    "            return (m.split()[1], '*')\n",
    "        elif m[0] == 'i':\n",
    "            if len(m.split()) > 1:\n",
    "                return ('*', m.split()[1])\n",
    "            else: # not sure why this is the case, probably a typo in their table\n",
    "                return ('*', 'N')\n",
    "        else:\n",
    "            return (m[0], m[-1])\n",
    "    except IndexError:\n",
    "        print(m)\n",
    "\n",
    "df_lu = pd.read_table('data/variant/ma_lines/lu_raw_mutations.tsv')\n",
    "df_lu['chrom'] = df_lu.Position.apply(lambda x: x.split('_')[0])\n",
    "df_lu['pos'] = df_lu.Position.apply(lambda x: int(x.split('_')[1]) - 1)\n",
    "df_lu['ref'] = df_lu.Mutation.apply(lambda x: mut_to_ref_alt(x)[0])\n",
    "df_lu['alt'] = df_lu.Mutation.apply(lambda x: mut_to_ref_alt(x)[1])\n",
    "df_lu = df_lu[df_lu.Sample.apply(lambda s: s[0] == 'D')]\n",
    "df_lu['source'] = df_lu.Sample.apply(lambda x: f'lu_{x}')\n",
    "df_lu = df_lu['chrom pos ref alt source'.split()]\n",
    "df_lu"
   ]
  },
  {
   "cell_type": "code",
   "execution_count": null,
   "id": "19",
   "metadata": {},
   "outputs": [],
   "source": [
    "# raw reads\n",
    "srrs = '''\n",
    "SRR9325733\n",
    "SRR9325732\n",
    "SRR9325731\n",
    "SRR9325730\n",
    "SRR9325737\n",
    "SRR9325736\n",
    "SRR9325735\n",
    "SRR9325734\n",
    "SRR9325739\n",
    "SRR9325738\n",
    "SRR9325715\n",
    "SRR9325745\n",
    "SRR9325746\n",
    "SRR9325747\n",
    "SRR9325740\n",
    "SRR9325741\n",
    "SRR9325714\n",
    "SRR9325717\n",
    "SRR9325716\n",
    "SRR9325719\n",
    "SRR9325718\n",
    "SRR9325742\n",
    "SRR9325743\n",
    "SRR9325748\n",
    "SRR9325749\n",
    "SRR9325725\n",
    "SRR9325721\n",
    "SRR9325720\n",
    "SRR9325723\n",
    "SRR9325722\n",
    "SRR9325744\n",
    "SRR9325724\n",
    "SRR9325729\n",
    "SRR9325728\n",
    "SRR9325727\n",
    "SRR9325726\n",
    "'''.split()\n",
    "names = '''\n",
    "G0-1\n",
    "G0-2-1\n",
    "G0-2-2\n",
    "G0-2-3\n",
    "G0-2-4\n",
    "G0-2-5\n",
    "A16L1\n",
    "A16L2\n",
    "A16L3\n",
    "A16L4\n",
    "A16L5\n",
    "D10L1\n",
    "D10L2\n",
    "D10L3\n",
    "D10L4\n",
    "D10L5\n",
    "B22L1\n",
    "B22L2\n",
    "B22L3\n",
    "B22L4\n",
    "B22L5\n",
    "E10L1\n",
    "E10L2\n",
    "E10L3\n",
    "E10L4\n",
    "E10L5\n",
    "C19L1\n",
    "C19L2\n",
    "C19L3\n",
    "C19L4\n",
    "C19L5\n",
    "F10L1\n",
    "F10L2\n",
    "F10L3\n",
    "F10L4\n",
    "F10L5\n",
    "'''.split()\n",
    "\n",
    "for i in range(len(srrs)):\n",
    "    print(f'{srrs[i]}\\tlu-ma\\t{names[i]}\\t0')"
   ]
  }
 ],
 "metadata": {
  "kernelspec": {
   "display_name": "Python 3 (ipykernel)",
   "language": "python",
   "name": "python3"
  },
  "language_info": {
   "codemirror_mode": {
    "name": "ipython",
    "version": 3
   },
   "file_extension": ".py",
   "mimetype": "text/x-python",
   "name": "python",
   "nbconvert_exporter": "python",
   "pygments_lexer": "ipython3",
   "version": "3.9.13"
  }
 },
 "nbformat": 4,
 "nbformat_minor": 5
}
