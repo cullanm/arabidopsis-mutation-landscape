{
 "cells": [
  {
   "cell_type": "markdown",
   "id": "0",
   "metadata": {},
   "source": [
    "Used to make BED files of different regions of the genome when given a GFF, histone mod ChIP data, and methylation. These BED files will be used to calculate mutation rate differences in my duplex-seq data"
   ]
  },
  {
   "cell_type": "code",
   "execution_count": null,
   "id": "1",
   "metadata": {},
   "outputs": [],
   "source": [
    "import sys\n",
    "import os\n",
    "sys.path.append(os.getcwd() + '/../python_scripts') # this lets us import files in python_scripts (like gtools)\n",
    "import gtools\n",
    "if os.getcwd()[:8] != '/scratch': # switch to the scratch directory where all the data files are\n",
    "    os.chdir(f'/scratch/cam02551/{os.getcwd().split(\"/\")[-2]}')\n",
    "\n",
    "import matplotlib.pyplot as plt\n",
    "%matplotlib inline\n",
    "import pandas as pd\n",
    "from tqdm import tqdm\n",
    "import numpy as np\n",
    "plt.rcParams['svg.fonttype'] = 'none'"
   ]
  },
  {
   "cell_type": "code",
   "execution_count": null,
   "id": "2",
   "metadata": {},
   "outputs": [],
   "source": [
    "!mkdir -p tmp/bed_regions"
   ]
  },
  {
   "cell_type": "markdown",
   "id": "3",
   "metadata": {},
   "source": [
    "# Make BED files of gff element types"
   ]
  },
  {
   "cell_type": "code",
   "execution_count": null,
   "id": "4",
   "metadata": {},
   "outputs": [],
   "source": [
    "# Load all the representative gene models, only transcripts in this list will be used\n",
    "# confirmed that every gene in TAIR10 has exactly 1 representative transcript in the list\n",
    "rep_gene_models = set()\n",
    "with open('data/ref/TAIR10_representative_gene_models.txt', 'r') as f:\n",
    "    for l in f:\n",
    "        if l[:2] != 'AT':\n",
    "            continue\n",
    "        rep_gene_models.add(l.strip())\n",
    "len(rep_gene_models)"
   ]
  },
  {
   "cell_type": "code",
   "execution_count": null,
   "id": "5",
   "metadata": {},
   "outputs": [],
   "source": [
    "# load the gff, convert to 0-base, and discard ChrC and ChrM\n",
    "gff_cols = 'chrom source type start end score strand phase att'.split()\n",
    "df_gff = pd.read_table('data/ref/ref.gff', names=gff_cols)\n",
    "df_gff.start -= 1\n",
    "df_gff = df_gff[(df_gff.chrom != 'ChrC') & (df_gff.chrom != 'ChrM')]\n",
    "print(sum(df_gff.type == 'mRNA'), sum(df_gff.type == 'exon'), sum(df_gff.type == 'CDS'), sum(df_gff.type == 'five_prime_UTR'))\n",
    "df_gff"
   ]
  },
  {
   "cell_type": "code",
   "execution_count": null,
   "id": "6",
   "metadata": {},
   "outputs": [],
   "source": [
    "# get the ID of the element (or ID of the parent if it has no ID), this will be the gene model (ATxxxxx.n) if the element\n",
    "# is associated with a specific transcript or just the ID if not (ATxxxxx)\n",
    "models = []\n",
    "for att in df_gff.att:\n",
    "    if 'ID=' in att:\n",
    "        model = att.split('ID=', 1)[1].split(';')[0].split(',')[0].split('-')[0]\n",
    "    else:\n",
    "        model = att.split('Parent=', 1)[1].split(';')[0].split(',')[0].split('-')[0]\n",
    "    models.append(model)\n",
    "df_gff['model'] = models"
   ]
  },
  {
   "cell_type": "code",
   "execution_count": null,
   "id": "7",
   "metadata": {},
   "outputs": [],
   "source": [
    "# remove non-representative elements. I confirmed this works, no element types are completely removed after this \n",
    "df_gff['representative'] = df_gff.model.apply(lambda m: m in rep_gene_models if '.' in m else True)\n",
    "df_gff = df_gff[df_gff.representative]\n",
    "print(sum(df_gff.type == 'mRNA'), sum(df_gff.type == 'exon'), sum(df_gff.type == 'CDS'), sum(df_gff.type == 'five_prime_UTR'))"
   ]
  },
  {
   "cell_type": "code",
   "execution_count": null,
   "id": "8",
   "metadata": {},
   "outputs": [],
   "source": [
    "# # check amount of genome corresponding to each element type\n",
    "# for t in set(df_gff.type):\n",
    "#     df_tmp = df_gff[df_gff.type == t]\n",
    "#     size = sum(df_tmp.end - df_tmp.start)\n",
    "#     print(f'{t}\\t{len(df_tmp)}\\t{size / total_genome_size}')\n",
    "#     print(df_tmp.iloc[0].att + '\\n')"
   ]
  },
  {
   "cell_type": "code",
   "execution_count": null,
   "id": "9",
   "metadata": {},
   "outputs": [],
   "source": [
    "# load genome fasta\n",
    "genome = gtools.load_genome('data/ref/ref.fa')\n",
    "total_genome_size = sum([len(x) for x in genome.values()])"
   ]
  },
  {
   "cell_type": "code",
   "execution_count": null,
   "id": "10",
   "metadata": {},
   "outputs": [],
   "source": [
    "# make beds of elements I care about\n",
    "for t in set(df_gff.type):\n",
    "    df_bed = df_gff[df_gff.type == t].copy()\n",
    "    df_bed['name'] = df_bed.model\n",
    "    df_bed = df_bed['chrom start end name score strand'.split()]\n",
    "    df_bed.to_csv(f'tmp/bed_regions/gff_{t}.bed', index=False, header=False, sep='\\t')"
   ]
  },
  {
   "cell_type": "markdown",
   "id": "11",
   "metadata": {},
   "source": [
    "# Load Keith Slotkin's TE annotation"
   ]
  },
  {
   "cell_type": "code",
   "execution_count": null,
   "id": "12",
   "metadata": {},
   "outputs": [],
   "source": [
    "df_tes = pd.read_table('data/ref/AthalianaTETranscripts/Panda_AT-TEs_annotation_v1.0.bed', names='chrom start end teid score strand sub_fam fam sup_fam len \\\n",
    "    len_cat copy_num copy_cat dist_cent pos_cat dist_gene rddm_silent rddm_active exp t_start t_stop t_strand t_id'.split(), comment='#')\n",
    "df_tes = df_tes[(df_tes.chrom != 'ChrC') & (df_tes.chrom != 'ChrM')]"
   ]
  },
  {
   "cell_type": "code",
   "execution_count": null,
   "id": "13",
   "metadata": {},
   "outputs": [],
   "source": [
    "df_tes"
   ]
  },
  {
   "cell_type": "code",
   "execution_count": null,
   "id": "14",
   "metadata": {},
   "outputs": [],
   "source": [
    "df_bed = df_tes['chrom start end teid score strand'.split()].copy()\n",
    "df_bed.to_csv(f'tmp/bed_regions/panda_te.bed', index=False, header=False, sep='\\t')"
   ]
  },
  {
   "cell_type": "markdown",
   "id": "15",
   "metadata": {},
   "source": [
    "# Make 5 exclusive categories"
   ]
  },
  {
   "cell_type": "code",
   "execution_count": null,
   "id": "16",
   "metadata": {},
   "outputs": [],
   "source": [
    "# Commands for making final exon, intron, promoter, TE, and intergenic BEDs\n",
    "# these should be run from the tmp/bed_regions directory\n",
    "# note: TE genes have exons, but no mRNA\n",
    "\n",
    "bedtools intersect -a gff_gene.bed -b gff_mRNA.bed > protein_mRNA.bed\n",
    "\n",
    "# TEs are done\n",
    "cp panda_te.bed pure_te.bed\n",
    "\n",
    "# only use exons in genes and not in TEs\n",
    "bedtools intersect -a gff_exon.bed -b protein_mRNA.bed > mrna_exon.bed\n",
    "bedtools subtract -a mrna_exon.bed -b panda_te.bed > pure_exon.bed\n",
    "\n",
    "# subtract TEs and exons from mRNAs, introns now done\n",
    "bedtools subtract -a protein_mRNA.bed -b panda_te.bed > non_te_mRNA.bed\n",
    "bedtools subtract -a non_te_mRNA.bed -b gff_exon.bed > pure_intron.bed\n",
    "\n",
    "# extend mRNAs 500bp upstream, subtract mRNAs and TEs, promoters now done\n",
    "bedtools slop -l 500 -r 0 -s -g ../../data/ref/ref.fa.fai -i protein_mRNA.bed > mRNA_slop.bed\n",
    "bedtools subtract -a mRNA_slop.bed -b protein_mRNA.bed > upstream_mRNA.bed\n",
    "bedtools subtract -a upstream_mRNA.bed -b panda_te.bed > pure_promoter.bed\n",
    "\n",
    "# subtract exons, introns, promoters, and TEs from everything, intergenic now done \n",
    "bedtools subtract -a gff_chromosome.bed -b pure_te.bed > int1.bed\n",
    "bedtools subtract -a int1.bed -b pure_exon.bed > int2.bed\n",
    "bedtools subtract -a int2.bed -b pure_intron.bed > int1.bed\n",
    "bedtools subtract -a int1.bed -b pure_promoter.bed > pure_intergenic.bed\n",
    "\n",
    "# sort and merge each bed with itself to get rid of overlapping elements (mostly only happens for promoters)\n",
    "bedtools sort -i pure_te.bed | bedtools merge -i stdin > ../../data/region/te.bed\n",
    "bedtools sort -i pure_exon.bed | bedtools merge -i stdin > ../../data/region/exon.bed\n",
    "bedtools sort -i pure_intron.bed | bedtools merge -i stdin > ../../data/region/intron.bed\n",
    "bedtools sort -i pure_promoter.bed | bedtools merge -i stdin > ../../data/region/promoter.bed\n",
    "bedtools sort -i pure_intergenic.bed | bedtools merge -i stdin > ../../data/region/intergenic.bed"
   ]
  },
  {
   "cell_type": "code",
   "execution_count": null,
   "id": "17",
   "metadata": {},
   "outputs": [],
   "source": [
    "sizes = dict()\n",
    "for region in 'exon intron te promoter intergenic'.split():\n",
    "    df_tmp = pd.read_table(f'data/region/final_{region}.bed', names='chrom start end'.split())\n",
    "    sizes[region] = sum(df_tmp.end - df_tmp.start)"
   ]
  },
  {
   "cell_type": "code",
   "execution_count": null,
   "id": "18",
   "metadata": {},
   "outputs": [],
   "source": [
    "fig, ax = plt.subplots()\n",
    "ax.pie(sizes.values(), labels=sizes.keys(), autopct='%1.1f%%', textprops={'size': 14})\n",
    "fig.savefig('figs/exclusive_bed_region_sizes.svg', dpi=300, bbox_inches='tight')"
   ]
  },
  {
   "cell_type": "markdown",
   "id": "19",
   "metadata": {},
   "source": [
    "# Genes"
   ]
  },
  {
   "cell_type": "code",
   "execution_count": null,
   "id": "20",
   "metadata": {},
   "outputs": [],
   "source": [
    "bedtools sort -i protein_mRNA.bed | bedtools merge -i stdin > ../../data/region/protein_mRNA.bed"
   ]
  },
  {
   "cell_type": "markdown",
   "id": "21",
   "metadata": {},
   "source": [
    "# ACRs"
   ]
  },
  {
   "cell_type": "code",
   "execution_count": null,
   "id": "22",
   "metadata": {},
   "outputs": [],
   "source": [
    "cat ../../data/peak/zefu_atac_1_peaks.narrowPeak ../../data/peak/zefu_atac_2_peaks.narrowPeak > union_acrs.bed\n",
    "bedtools sort -i union_acrs.bed | bedtools merge -i stdin > ../../data/region/acrs.bed"
   ]
  },
  {
   "cell_type": "markdown",
   "id": "23",
   "metadata": {},
   "source": [
    "# Pericentromere"
   ]
  },
  {
   "cell_type": "code",
   "execution_count": null,
   "id": "24",
   "metadata": {},
   "outputs": [],
   "source": [
    "# centromere positions determined by center of CEN178 arrays from PMID 37198485\n",
    "# centromere_pos = {'Chr1':16029005, 'Chr2':5731747, 'Chr3':14711236, 'Chr4':6595103, 'Chr5':13790251} # don't remember the source of this\n",
    "centromere_pos = {'Chr1':15256434, 'Chr2':3697368, 'Chr3':13599663, 'Chr4':3941890, 'Chr5':11880011} # this is from the Col-CEN paper (34762468) table S1 and figure S3, center of the centromere\n",
    "with open('tmp/bed_regions/centromeres.bed', 'w') as f:\n",
    "    for chrom in centromere_pos:\n",
    "        f.write(f'{chrom}\\t{centromere_pos[chrom]}\\t{centromere_pos[chrom] + 1}\\n') "
   ]
  },
  {
   "cell_type": "code",
   "execution_count": null,
   "id": "25",
   "metadata": {},
   "outputs": [],
   "source": [
    "# define the pericentromere as a 10Mb region centered on the centromere repeats\n",
    "bedtools slop -b 5000000 -g ../../data/ref/ref.fa.fai -i centromeres.bed > ../../data/region/pericentromere.bed"
   ]
  },
  {
   "cell_type": "markdown",
   "id": "26",
   "metadata": {
    "tags": []
   },
   "source": [
    "# Methylated cytosines"
   ]
  },
  {
   "cell_type": "code",
   "execution_count": null,
   "id": "27",
   "metadata": {},
   "outputs": [],
   "source": [
    "df_met = pd.read_table('data/methyl/bewick_bisulfite_1_methimpute.tsv', names='chrom pos strand context met total post_max post_met post_unmet status meth_lvl'.split(), header=1)\n",
    "df_met.pos -= 1\n"
   ]
  },
  {
   "cell_type": "code",
   "execution_count": null,
   "id": "28",
   "metadata": {},
   "outputs": [],
   "source": [
    "nonconv_rate = sum(df_met[df_met.chrom == 'ChrM'].met) / sum(df_met[df_met.chrom == 'ChrM'].total)\n",
    "print('nonconversion rate', nonconv_rate)"
   ]
  },
  {
   "cell_type": "code",
   "execution_count": null,
   "id": "29",
   "metadata": {},
   "outputs": [],
   "source": [
    "df_tmp = df_met[df_met.chrom == 'Chr1']\n",
    "fig, axs = plt.subplots(2)\n",
    "bottom = axs[0].hist(df_tmp[df_tmp.status == 'Unmethylated'].total, bins=range(40))[0]\n",
    "bottom += axs[0].hist(df_tmp[df_tmp.status == 'Methylated'].total, bins=range(40), bottom=bottom)[0]\n",
    "bottom += axs[0].hist(df_tmp[df_tmp.status == 'Intermediate'].total, bins=range(40), bottom=bottom)[0]\n",
    "\n",
    "bottom = axs[1].hist(df_tmp[df_tmp.status == 'Unmethylated'].met / df_tmp[df_tmp.status == 'Unmethylated'].total, bins=[x /20 for x in range(22)])[0]\n",
    "bottom += axs[1].hist(df_tmp[df_tmp.status == 'Methylated'].met / df_tmp[df_tmp.status == 'Methylated'].total, bins=[x /20 for x in range(22)], bottom=bottom)[0]\n",
    "bottom += axs[1].hist(df_tmp[df_tmp.status == 'Intermediate'].met / df_tmp[df_tmp.status == 'Intermediate'].total, bins=[x /20 for x in range(22)], bottom=bottom)[0]\n",
    "axs[1].set_yscale('log')\n",
    "\n",
    "axs[0].legend(['unmethylated', 'methylated', 'intermediate'])\n",
    "plt.show()\n"
   ]
  },
  {
   "cell_type": "code",
   "execution_count": null,
   "id": "30",
   "metadata": {},
   "outputs": [],
   "source": [
    "df_tmp[(df_tmp.pos > 9585650) & (df_tmp.pos < 9585750)]"
   ]
  },
  {
   "cell_type": "code",
   "execution_count": null,
   "id": "31",
   "metadata": {},
   "outputs": [],
   "source": [
    "# OLD code where I tried to call cytosines as methylated myself\n",
    "\n",
    "# # calculate the probability of at least j nonconversions out of i covering reads\n",
    "# stat_table = np.zeros((200, 200))\n",
    "# for i in range(100):\n",
    "#     for j in range(i):\n",
    "#         stat_table[j, i] = 1 - stats.binom.cdf(j - 1, i, nonconv_rate)\n",
    "\n",
    "# import scipy.stats as stats\n",
    "# calls = []\n",
    "# for r in tqdm(df_met.itertuples(), total=len(df_met)):\n",
    "#     # for abnormally high coverage, don't call\n",
    "#     if r.c >= 200:\n",
    "#         calls.append(None)\n",
    "#         continue\n",
    "    \n",
    "#     # calculate the probability of observing at least this many nonconversions\n",
    "#     p_nonconv = stat_table[r.mc, r.c]\n",
    "    \n",
    "#     if r.c < 3: # for low coverage, don't call\n",
    "#         calls.append(None)\n",
    "#     elif p_nonconv < frac_met: # if it's unlikely to get this many nonconversions, call it as methylated\n",
    "#         calls.append(True)\n",
    "#     else:\n",
    "#         calls.append(False)\n",
    "# df_met.methylated = calls"
   ]
  },
  {
   "cell_type": "code",
   "execution_count": null,
   "id": "32",
   "metadata": {},
   "outputs": [],
   "source": [
    "f_met_cg = open('data/region/met_cg.bed', 'w')\n",
    "f_unmet_cg = open('data/region/unmet_cg.bed', 'w')\n",
    "f_met_chg = open('data/region/met_chg.bed', 'w')\n",
    "f_unmet_chg = open('data/region/unmet_chg.bed', 'w')\n",
    "f_met_chh = open('data/region/met_chh.bed', 'w')\n",
    "f_unmet_chh = open('data/region/unmet_chh.bed', 'w')\n",
    "\n",
    "for r in tqdm(df_met.itertuples(), total=len(df_met)):\n",
    "    bed_entry = f'{r.chrom}\\t{r.pos}\\t{r.pos + 1}\\n'\n",
    "    \n",
    "    if r.status == 'Intermediate' or r.total == 0:\n",
    "        continue\n",
    "    \n",
    "    # put all sites labeled as 'Methylated' by methimpute in the met files and all other sites in the unmet files\n",
    "    if r.context[1] == 'G' and r.status == 'Methylated':\n",
    "        f_met_cg.write(bed_entry)\n",
    "    elif r.context[1] == 'G':\n",
    "        f_unmet_cg.write(bed_entry)\n",
    "    elif r.context[2] == 'G' and r.status == 'Methylated':\n",
    "        f_met_chg.write(bed_entry)\n",
    "    elif r.context[2] == 'G':\n",
    "        f_unmet_chg.write(bed_entry)\n",
    "    elif r.status == 'Methylated':\n",
    "        f_met_chh.write(bed_entry)\n",
    "    else:\n",
    "        f_unmet_chh.write(bed_entry)\n",
    "\n",
    "f_met_cg.close()\n",
    "f_unmet_cg.close()\n",
    "f_met_chg.close()\n",
    "f_unmet_chg.close()\n",
    "f_met_chh.close()\n",
    "f_unmet_chh.close()"
   ]
  },
  {
   "cell_type": "code",
   "execution_count": null,
   "id": "33",
   "metadata": {},
   "outputs": [],
   "source": [
    "# cg_met_gene = [False] * len(df_met)\n",
    "# cg_unmet_gene = [False] * len(df_met)\n",
    "# cn_met_nongene = [False] * len(df_met)\n",
    "# cn_unmet_nongene = [False] * len(df_met)\n",
    "# for i, row in tqdm(enumerate(df_met.itertuples()), total=len(df_met)):\n",
    "#     if gene_arr[row.chrom][row.pos] == True and row.context[1] == 'G': # if CG in a gene\n",
    "#         if (row.mc > 2) and (row.mc / row.c > 0.3):\n",
    "#             cg_met_gene[i] = True\n",
    "#         else:\n",
    "#             cg_unmet_gene[i] = True\n",
    "    \n",
    "#     if gene_arr[row.chrom][row.pos] == False:\n",
    "#         if (row.mc > 2) and (row.mc / row.c > 0.1):\n",
    "#             cn_met_nongene[i] = True\n",
    "#         else:\n",
    "#             cn_unmet_nongene[i] = True"
   ]
  },
  {
   "cell_type": "code",
   "execution_count": null,
   "id": "34",
   "metadata": {},
   "outputs": [],
   "source": [
    "# bed_met = df_met.copy()\n",
    "# bed_met['end'] = bed_met.pos + 1\n",
    "# bed_met = bed_met['chrom pos end context mc strand'.split()]"
   ]
  },
  {
   "cell_type": "code",
   "execution_count": null,
   "id": "35",
   "metadata": {},
   "outputs": [],
   "source": [
    "# bed_met"
   ]
  },
  {
   "cell_type": "code",
   "execution_count": null,
   "id": "36",
   "metadata": {},
   "outputs": [],
   "source": [
    "# bed_met[cg_met_gene].to_csv('../data/regions/cg_met_gene.bed', index=False, header=False, sep='\\t')\n",
    "# bed_met[cg_unmet_gene].to_csv('../data/regions/cg_unmet_gene.bed', index=False, header=False, sep='\\t')\n",
    "# bed_met[cn_met_nongene].to_csv('../data/regions/cn_met_nongene.bed', index=False, header=False, sep='\\t')\n",
    "# bed_met[cn_unmet_nongene].to_csv('../data/regions/cn_unmet_nongene.bed', index=False, header=False, sep='\\t')"
   ]
  },
  {
   "cell_type": "code",
   "execution_count": null,
   "id": "37",
   "metadata": {},
   "outputs": [],
   "source": [
    "# regions near a methylated cytosine\n",
    "cat data/region/met_cg.bed data/region/met_chg.bed data/region/met_chh.bed | bedtools slop -i stdin -g data/ref/ref.fa.fai -b 50 | bedtools sort -i stdin | bedtools merge -i stdin > data/region/near_met.bed\n"
   ]
  },
  {
   "cell_type": "markdown",
   "id": "38",
   "metadata": {
    "jp-MarkdownHeadingCollapsed": true,
    "tags": []
   },
   "source": [
    "# Estimate RdDM targets"
   ]
  },
  {
   "cell_type": "code",
   "execution_count": null,
   "id": "39",
   "metadata": {},
   "outputs": [],
   "source": [
    "with open('tmp/mCH_sites.bed', 'w') as f:\n",
    "    met_arr = {chrom:np.zeros(len(genome[chrom]), dtype=bool) for chrom in genome}\n",
    "    for i, row in tqdm(enumerate(df_met.itertuples()), total=len(df_met)):\n",
    "        if row.context[1] != 'G' and (row.mc > 2) and (row.mc / row.c > 0.3):\n",
    "            f.write(f'{row.chrom}\\t{row.pos}\\t{row.pos + 1}\\tmCH\\t.\\t{row.strand}\\n')"
   ]
  },
  {
   "cell_type": "code",
   "execution_count": null,
   "id": "40",
   "metadata": {},
   "outputs": [],
   "source": [
    "bedtools subtract -a tmp/mCH_peaks.broadPeak -b ../data/regions/bewick_chip-h3k9me2_1_peaks.broadPeak > ../data/regions/est_rddm_targets.bed"
   ]
  }
 ],
 "metadata": {
  "kernelspec": {
   "display_name": "Python 3 (ipykernel)",
   "language": "python",
   "name": "python3"
  },
  "language_info": {
   "codemirror_mode": {
    "name": "ipython",
    "version": 3
   },
   "file_extension": ".py",
   "mimetype": "text/x-python",
   "name": "python",
   "nbconvert_exporter": "python",
   "pygments_lexer": "ipython3",
   "version": "3.12.3"
  }
 },
 "nbformat": 4,
 "nbformat_minor": 5
}
